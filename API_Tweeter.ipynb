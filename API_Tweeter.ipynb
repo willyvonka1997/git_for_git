{
  "nbformat": 4,
  "nbformat_minor": 0,
  "metadata": {
    "colab": {
      "name": "API_Tweeter.ipynb",
      "provenance": [],
      "collapsed_sections": [],
      "include_colab_link": true
    },
    "kernelspec": {
      "name": "python3",
      "display_name": "Python 3"
    },
    "language_info": {
      "name": "python"
    }
  },
  "cells": [
    {
      "cell_type": "markdown",
      "metadata": {
        "id": "view-in-github",
        "colab_type": "text"
      },
      "source": [
        "<a href=\"https://colab.research.google.com/github/willyvonka1997/git_for_git/blob/main/API_Tweeter.ipynb\" target=\"_parent\"><img src=\"https://colab.research.google.com/assets/colab-badge.svg\" alt=\"Open In Colab\"/></a>"
      ]
    },
    {
      "cell_type": "markdown",
      "metadata": {
        "id": "-4gKzBI9oqFk"
      },
      "source": [
        ""
      ]
    },
    {
      "cell_type": "code",
      "metadata": {
        "id": "VnXXG2kBaR--"
      },
      "source": [
        "import tweepy as t"
      ],
      "execution_count": 1,
      "outputs": []
    },
    {
      "cell_type": "code",
      "metadata": {
        "colab": {
          "base_uri": "https://localhost:8080/"
        },
        "id": "ueqjYOFEs98K",
        "outputId": "50e59c05-70a7-47e7-825f-0cfc49c4bcf5"
      },
      "source": [
        "from google.colab import drive\n",
        "drive.mount('/content/drive')"
      ],
      "execution_count": 54,
      "outputs": [
        {
          "output_type": "stream",
          "name": "stdout",
          "text": [
            "Drive already mounted at /content/drive; to attempt to forcibly remount, call drive.mount(\"/content/drive\", force_remount=True).\n"
          ]
        }
      ]
    },
    {
      "cell_type": "code",
      "metadata": {
        "id": "l-RENwGsc0Yj"
      },
      "source": [
        "# # Authenticate to Twitter\n",
        "# auth = tweepy.OAuthHandler(\"CONSUMER_KEY\", \"CONSUMER_SECRET\")\n",
        "# auth.set_access_token(\"ACCESS_TOKEN\", \"ACCESS_TOKEN_SECRET\")"
      ],
      "execution_count": null,
      "outputs": []
    },
    {
      "cell_type": "code",
      "metadata": {
        "id": "RblMNjpIanmb"
      },
      "source": [
        "#Authentication to Teitter\n",
        "auth = t.OAuthHandler(\"sJR0UQQ8HwgJg1n3foMKtIsQH\", \"geK9hqZF7rkUnsYEYRAJso49FzL4Oyekqa5rckE7acALLO2Nkt\")\n",
        "auth.set_access_token(\"1369691334051852293-Xpx2wRpjkJc7v80J8JDbsqTwz2Nnat\" , \"O5u3GpiEZXqEGwGGSRwQGyQEI6tPCTnKHlqwLphqVzik8\")"
      ],
      "execution_count": 2,
      "outputs": []
    },
    {
      "cell_type": "code",
      "metadata": {
        "id": "_0FYfO5qbYZQ"
      },
      "source": [
        "# creating API object\n",
        "api = t.API(auth)"
      ],
      "execution_count": null,
      "outputs": []
    },
    {
      "cell_type": "code",
      "metadata": {
        "id": "xR9LKVQHba11"
      },
      "source": [
        "# create a tweet Example\n",
        "PT = api.update_status(\"led zepplin\")"
      ],
      "execution_count": null,
      "outputs": []
    },
    {
      "cell_type": "code",
      "metadata": {
        "colab": {
          "base_uri": "https://localhost:8080/",
          "height": 38
        },
        "id": "OgAgLWNeewKl",
        "outputId": "4d994b26-6209-49c0-d6ec-5ad21666eade"
      },
      "source": [
        "PT.id_str"
      ],
      "execution_count": null,
      "outputs": [
        {
          "output_type": "execute_result",
          "data": {
            "application/vnd.google.colaboratory.intrinsic+json": {
              "type": "string"
            },
            "text/plain": [
              "'1439950645063127043'"
            ]
          },
          "metadata": {},
          "execution_count": 24
        }
      ]
    },
    {
      "cell_type": "code",
      "metadata": {
        "colab": {
          "base_uri": "https://localhost:8080/"
        },
        "id": "StRedpqJc_0s",
        "outputId": "1cdf4c2e-3036-4681-d390-5628b4bca94c"
      },
      "source": [
        "# if its Ok so far\n",
        "try:\n",
        "    api.verify_credentials()\n",
        "    print(\"Authentication OK\")\n",
        "except:\n",
        "    print(\"Error during authentication\")"
      ],
      "execution_count": 4,
      "outputs": [
        {
          "output_type": "stream",
          "name": "stdout",
          "text": [
            "Authentication OK\n"
          ]
        }
      ]
    },
    {
      "cell_type": "code",
      "metadata": {
        "id": "Afcs5z4idPJp"
      },
      "source": [
        "#  a  aaaaaaaaaaaaaaaaaaaaaaaaaaaaaaaaaaaaaaaaaa "
      ],
      "execution_count": null,
      "outputs": []
    },
    {
      "cell_type": "code",
      "metadata": {
        "id": "eco6pKE3fHfi"
      },
      "source": [
        "# Create API object\n",
        "api = t.API(auth,wait_on_rate_limit=True, wait_on_rate_limit_notify=True)"
      ],
      "execution_count": 3,
      "outputs": []
    },
    {
      "cell_type": "code",
      "metadata": {
        "id": "rkbTMvsSgUS7"
      },
      "source": [
        "# give tweets from timeline\n",
        "timeline = api.home_timeline()"
      ],
      "execution_count": null,
      "outputs": []
    },
    {
      "cell_type": "code",
      "metadata": {
        "id": "ov4KjrsUzf2M"
      },
      "source": [
        "api = t.API(auth)\n",
        "places = api.geo_search(query=\"uk\", granularity=\"country\")\n",
        "place_id = places[0].id\n"
      ],
      "execution_count": null,
      "outputs": []
    },
    {
      "cell_type": "code",
      "metadata": {
        "id": "_33m-Aqf0LvN",
        "colab": {
          "base_uri": "https://localhost:8080/",
          "height": 35
        },
        "outputId": "7e57f1fb-d9f6-49ec-8b48-c8ce5afe3e27"
      },
      "source": [
        "place_id"
      ],
      "execution_count": null,
      "outputs": [
        {
          "output_type": "execute_result",
          "data": {
            "application/vnd.google.colaboratory.intrinsic+json": {
              "type": "string"
            },
            "text/plain": [
              "'084d0d0155787e9d'"
            ]
          },
          "metadata": {},
          "execution_count": 10
        }
      ]
    },
    {
      "cell_type": "code",
      "metadata": {
        "id": "mZets0-20R9s",
        "colab": {
          "base_uri": "https://localhost:8080/"
        },
        "outputId": "b9732d64-a9e9-449c-ed0e-9655569ced58"
      },
      "source": [
        "followers = []\n",
        "followers = api.followers_ids(id = '26981455')\n",
        "len(followers)"
      ],
      "execution_count": 76,
      "outputs": [
        {
          "output_type": "execute_result",
          "data": {
            "text/plain": [
              "5000"
            ]
          },
          "metadata": {},
          "execution_count": 76
        }
      ]
    },
    {
      "cell_type": "code",
      "metadata": {
        "id": "8r6Md24it-Px"
      },
      "source": [
        "\n",
        "followers"
      ],
      "execution_count": null,
      "outputs": []
    },
    {
      "cell_type": "code",
      "metadata": {
        "id": "ppQXxfjPnPBJ"
      },
      "source": [
        "friends = api.friends_ids('26981455')"
      ],
      "execution_count": 7,
      "outputs": []
    },
    {
      "cell_type": "code",
      "metadata": {
        "id": "U_3aXz2QoOJM"
      },
      "source": [
        "import time"
      ],
      "execution_count": 8,
      "outputs": []
    },
    {
      "cell_type": "code",
      "metadata": {
        "id": "gHYx6SgNtCdo"
      },
      "source": [
        "ffolo = {}"
      ],
      "execution_count": 9,
      "outputs": []
    },
    {
      "cell_type": "code",
      "metadata": {
        "colab": {
          "base_uri": "https://localhost:8080/"
        },
        "id": "BdMUtbAfpTJr",
        "outputId": "ab8bf469-d143-43d7-f8cb-fa62125a5027"
      },
      "source": [
        "len(friends)"
      ],
      "execution_count": 79,
      "outputs": [
        {
          "output_type": "execute_result",
          "data": {
            "text/plain": [
              "1559"
            ]
          },
          "metadata": {},
          "execution_count": 79
        }
      ]
    },
    {
      "cell_type": "code",
      "metadata": {
        "id": "bEDsqAjw-Esg"
      },
      "source": [
        "api.get_user(i)"
      ],
      "execution_count": null,
      "outputs": []
    },
    {
      "cell_type": "code",
      "metadata": {
        "id": "Zc0RdTPyngsQ"
      },
      "source": [
        "g= 0\n",
        "for i in followers:\n",
        "    # print(i)\n",
        "    ffolo[f'{i}'] = api.get_user(i)\n",
        "    # for j in ffolo[i:i+1]:\n",
        "    g=len(ffolo)\n",
        "# ffolo\n",
        "    print(g)\n",
        "    # time.sleep(10)\n",
        "    # ffolo[f'{i}']['out'] = api.friends_ids(i)"
      ],
      "execution_count": null,
      "outputs": []
    },
    {
      "cell_type": "code",
      "metadata": {
        "colab": {
          "base_uri": "https://localhost:8080/"
        },
        "id": "li_w9_VlpsXi",
        "outputId": "46723988-3169-4aa0-a099-e6fe517c255d"
      },
      "source": [
        "\n",
        "for i in ffolo:\n",
        "    g+=len(ffolo[i])\n",
        "# ffolo\n",
        "g"
      ],
      "execution_count": 24,
      "outputs": [
        {
          "output_type": "execute_result",
          "data": {
            "text/plain": [
              "48536"
            ]
          },
          "metadata": {},
          "execution_count": 24
        }
      ]
    },
    {
      "cell_type": "code",
      "metadata": {
        "id": "2UNFuM0aqFfE"
      },
      "source": [
        "f1= []\n",
        "for i in ffolo:\n",
        "    for j in ffolo[i]:\n",
        "        f1.append([i,j])"
      ],
      "execution_count": 28,
      "outputs": []
    },
    {
      "cell_type": "code",
      "metadata": {
        "colab": {
          "base_uri": "https://localhost:8080/"
        },
        "id": "uY9uNbArqqdB",
        "outputId": "a62b9cd2-9ef2-4c2b-c325-5e926bef0ebc"
      },
      "source": [
        "len(f1)\n",
        "f1[1]"
      ],
      "execution_count": 30,
      "outputs": [
        {
          "output_type": "execute_result",
          "data": {
            "text/plain": [
              "['24964967', 1269555121664462856]"
            ]
          },
          "metadata": {},
          "execution_count": 30
        }
      ]
    },
    {
      "cell_type": "code",
      "metadata": {
        "id": "0OIbE_vy6T8a",
        "colab": {
          "base_uri": "https://localhost:8080/"
        },
        "outputId": "5cc8f08b-f240-4786-faba-a3bb64886b55"
      },
      "source": [
        "for i in ffolo:\n",
        "    print(len(ffolo[i]))"
      ],
      "execution_count": null,
      "outputs": [
        {
          "output_type": "stream",
          "name": "stdout",
          "text": [
            "5000\n",
            "368\n",
            "5000\n",
            "5000\n",
            "1037\n",
            "5000\n",
            "491\n",
            "5000\n",
            "1316\n",
            "5000\n",
            "5000\n",
            "5000\n",
            "1242\n",
            "5000\n"
          ]
        }
      ]
    },
    {
      "cell_type": "code",
      "metadata": {
        "id": "1Q-BMmKtfh-U"
      },
      "source": [
        "f1 = []\n",
        "f2 = []\n",
        "for tweet in timeline:\n",
        "    f1.append((int(1),tweet.id_str))\n",
        "    f2.append(tweet.id)\n",
        "    f2.append(tweet.id_str)\n",
        "    # f2 = tweet.retweet_count\n",
        "    # print(f\"{tweet.retweet_count} >>>> and >>>> {tweet.text}\")"
      ],
      "execution_count": null,
      "outputs": []
    },
    {
      "cell_type": "code",
      "metadata": {
        "id": "jAgnDxtDkoq3"
      },
      "source": [
        "user = api.get_user('26981455')\n",
        "p=user.friends()"
      ],
      "execution_count": null,
      "outputs": []
    },
    {
      "cell_type": "code",
      "metadata": {
        "colab": {
          "base_uri": "https://localhost:8080/",
          "height": 183
        },
        "id": "69Gi3XzbmDM4",
        "outputId": "98bb9a99-5b5b-4cf8-9857-3aa8bd8eb685"
      },
      "source": [
        "# for ty in p:\n",
        "    # print(ty)"
      ],
      "execution_count": null,
      "outputs": [
        {
          "output_type": "error",
          "ename": "TypeError",
          "evalue": "ignored",
          "traceback": [
            "\u001b[0;31m---------------------------------------------------------------------------\u001b[0m",
            "\u001b[0;31mTypeError\u001b[0m                                 Traceback (most recent call last)",
            "\u001b[0;32m<ipython-input-48-ba56665a2410>\u001b[0m in \u001b[0;36m<module>\u001b[0;34m()\u001b[0m\n\u001b[0;32m----> 1\u001b[0;31m \u001b[0;32mfor\u001b[0m \u001b[0mty\u001b[0m \u001b[0;32min\u001b[0m \u001b[0mp\u001b[0m\u001b[0;34m:\u001b[0m\u001b[0;34m\u001b[0m\u001b[0;34m\u001b[0m\u001b[0m\n\u001b[0m\u001b[1;32m      2\u001b[0m     \u001b[0mprint\u001b[0m\u001b[0;34m(\u001b[0m\u001b[0mty\u001b[0m\u001b[0;34m)\u001b[0m\u001b[0;34m\u001b[0m\u001b[0;34m\u001b[0m\u001b[0m\n",
            "\u001b[0;31mTypeError\u001b[0m: 'method' object is not iterable"
          ]
        }
      ]
    },
    {
      "cell_type": "code",
      "metadata": {
        "id": "YTOECqvcjSh1"
      },
      "source": [
        "d = api"
      ],
      "execution_count": null,
      "outputs": []
    },
    {
      "cell_type": "code",
      "metadata": {
        "id": "0D-1tSpkjgcH"
      },
      "source": [
        "for df in d:\n",
        "    print(df.user.id)"
      ],
      "execution_count": null,
      "outputs": []
    },
    {
      "cell_type": "code",
      "metadata": {
        "id": "Is--8z11rQQt"
      },
      "source": [
        "# print()\n",
        "number_of_follower = user.followers()\n",
        "number_of_follower"
      ],
      "execution_count": null,
      "outputs": []
    },
    {
      "cell_type": "code",
      "metadata": {
        "id": "-wS7nzcIoe9D"
      },
      "source": [
        "for e in number_of_follower:\n",
        "    print(e.text)"
      ],
      "execution_count": null,
      "outputs": []
    },
    {
      "cell_type": "code",
      "metadata": {
        "id": "EcbluDXJtG6C"
      },
      "source": [
        "trends_result = api.trends_place(1)\n",
        "for e in trends_result[0][\"trends\"]:\n",
        "    print(e)"
      ],
      "execution_count": null,
      "outputs": []
    },
    {
      "cell_type": "code",
      "metadata": {
        "id": "3MAhE6JwcgzO",
        "colab": {
          "base_uri": "https://localhost:8080/"
        },
        "outputId": "d5a48730-bf78-4580-fff4-1f93125d108f"
      },
      "source": [
        "pit = {}\n",
        "i=0\n",
        "ll=0\n",
        "pit[f'{i}']=[]\n",
        "for me_f in t.Cursor(api.followers,id ='26981455').pages(3):\n",
        "    pit[f'{i}'].extend(me_f)\n",
        "    ll+=len(pit[f'{i}'])\n",
        "    print(len(pit['0']))\n",
        "    # i+=1\n",
        "    # print(me_f)\n",
        "    # print(me_f)"
      ],
      "execution_count": 75,
      "outputs": [
        {
          "output_type": "stream",
          "name": "stdout",
          "text": [
            "20\n",
            "40\n",
            "60\n"
          ]
        }
      ]
    },
    {
      "cell_type": "code",
      "metadata": {
        "colab": {
          "base_uri": "https://localhost:8080/"
        },
        "id": "GRJHTCYGhz6w",
        "outputId": "df8b14ac-326e-48bf-bf5a-ff148103caa7"
      },
      "source": [
        "len(pit['0'])"
      ],
      "execution_count": 73,
      "outputs": [
        {
          "output_type": "execute_result",
          "data": {
            "text/plain": [
              "40"
            ]
          },
          "metadata": {},
          "execution_count": 73
        }
      ]
    },
    {
      "cell_type": "code",
      "metadata": {
        "colab": {
          "base_uri": "https://localhost:8080/"
        },
        "id": "brNSXZZJkfbB",
        "outputId": "bb8e3959-fcf9-4df7-f6f9-df4e64b93b0b"
      },
      "source": [
        "# Only iterate through the first 200 statuses\n",
        "for status in t.Cursor(api.user_timeline).items(20):\n",
        "    print(status.user.id)"
      ],
      "execution_count": null,
      "outputs": [
        {
          "output_type": "stream",
          "name": "stdout",
          "text": [
            "1369691334051852293\n",
            "1369691334051852293\n",
            "1369691334051852293\n",
            "1369691334051852293\n",
            "1369691334051852293\n",
            "1369691334051852293\n",
            "1369691334051852293\n",
            "1369691334051852293\n",
            "1369691334051852293\n"
          ]
        }
      ]
    },
    {
      "cell_type": "code",
      "metadata": {
        "colab": {
          "base_uri": "https://localhost:8080/",
          "height": 380
        },
        "id": "bZ-CNNezX-Zo",
        "outputId": "482e44ec-ae3e-404a-936d-8365a76b6b70"
      },
      "source": [
        "# Only iterate through the first 200 statuses\n",
        "lis = {}\n",
        "for status in t.Cursor(api.search_full_archive,tweet_mode='extended').items(20):\n",
        "    print(status.id)\n",
        "    lis[f\"{status.id}\"] = status"
      ],
      "execution_count": null,
      "outputs": [
        {
          "output_type": "error",
          "ename": "TweepError",
          "evalue": "ignored",
          "traceback": [
            "\u001b[0;31m---------------------------------------------------------------------------\u001b[0m",
            "\u001b[0;31mTweepError\u001b[0m                                Traceback (most recent call last)",
            "\u001b[0;32m<ipython-input-31-ff081109bb96>\u001b[0m in \u001b[0;36m<module>\u001b[0;34m()\u001b[0m\n\u001b[1;32m      1\u001b[0m \u001b[0;31m# Only iterate through the first 200 statuses\u001b[0m\u001b[0;34m\u001b[0m\u001b[0;34m\u001b[0m\u001b[0;34m\u001b[0m\u001b[0m\n\u001b[1;32m      2\u001b[0m \u001b[0mlis\u001b[0m \u001b[0;34m=\u001b[0m \u001b[0;34m{\u001b[0m\u001b[0;34m}\u001b[0m\u001b[0;34m\u001b[0m\u001b[0;34m\u001b[0m\u001b[0m\n\u001b[0;32m----> 3\u001b[0;31m \u001b[0;32mfor\u001b[0m \u001b[0mstatus\u001b[0m \u001b[0;32min\u001b[0m \u001b[0mt\u001b[0m\u001b[0;34m.\u001b[0m\u001b[0mCursor\u001b[0m\u001b[0;34m(\u001b[0m\u001b[0mapi\u001b[0m\u001b[0;34m.\u001b[0m\u001b[0msearch\u001b[0m\u001b[0;34m)\u001b[0m\u001b[0;34m.\u001b[0m\u001b[0mitems\u001b[0m\u001b[0;34m(\u001b[0m\u001b[0;36m20\u001b[0m\u001b[0;34m)\u001b[0m\u001b[0;34m:\u001b[0m\u001b[0;34m\u001b[0m\u001b[0;34m\u001b[0m\u001b[0m\n\u001b[0m\u001b[1;32m      4\u001b[0m     \u001b[0mprint\u001b[0m\u001b[0;34m(\u001b[0m\u001b[0mstatus\u001b[0m\u001b[0;34m.\u001b[0m\u001b[0mid\u001b[0m\u001b[0;34m)\u001b[0m\u001b[0;34m\u001b[0m\u001b[0;34m\u001b[0m\u001b[0m\n\u001b[1;32m      5\u001b[0m     \u001b[0mlis\u001b[0m\u001b[0;34m[\u001b[0m\u001b[0;34mf\"{status.id}\"\u001b[0m\u001b[0;34m]\u001b[0m \u001b[0;34m=\u001b[0m \u001b[0mstatus\u001b[0m\u001b[0;34m\u001b[0m\u001b[0;34m\u001b[0m\u001b[0m\n",
            "\u001b[0;32m/usr/local/lib/python3.7/dist-packages/tweepy/cursor.py\u001b[0m in \u001b[0;36m__next__\u001b[0;34m(self)\u001b[0m\n\u001b[1;32m     49\u001b[0m \u001b[0;34m\u001b[0m\u001b[0m\n\u001b[1;32m     50\u001b[0m     \u001b[0;32mdef\u001b[0m \u001b[0m__next__\u001b[0m\u001b[0;34m(\u001b[0m\u001b[0mself\u001b[0m\u001b[0;34m)\u001b[0m\u001b[0;34m:\u001b[0m\u001b[0;34m\u001b[0m\u001b[0;34m\u001b[0m\u001b[0m\n\u001b[0;32m---> 51\u001b[0;31m         \u001b[0;32mreturn\u001b[0m \u001b[0mself\u001b[0m\u001b[0;34m.\u001b[0m\u001b[0mnext\u001b[0m\u001b[0;34m(\u001b[0m\u001b[0;34m)\u001b[0m\u001b[0;34m\u001b[0m\u001b[0;34m\u001b[0m\u001b[0m\n\u001b[0m\u001b[1;32m     52\u001b[0m \u001b[0;34m\u001b[0m\u001b[0m\n\u001b[1;32m     53\u001b[0m     \u001b[0;32mdef\u001b[0m \u001b[0mnext\u001b[0m\u001b[0;34m(\u001b[0m\u001b[0mself\u001b[0m\u001b[0;34m)\u001b[0m\u001b[0;34m:\u001b[0m\u001b[0;34m\u001b[0m\u001b[0;34m\u001b[0m\u001b[0m\n",
            "\u001b[0;32m/usr/local/lib/python3.7/dist-packages/tweepy/cursor.py\u001b[0m in \u001b[0;36mnext\u001b[0;34m(self)\u001b[0m\n\u001b[1;32m    241\u001b[0m         \u001b[0;32mif\u001b[0m \u001b[0mself\u001b[0m\u001b[0;34m.\u001b[0m\u001b[0mcurrent_page\u001b[0m \u001b[0;32mis\u001b[0m \u001b[0;32mNone\u001b[0m \u001b[0;32mor\u001b[0m \u001b[0mself\u001b[0m\u001b[0;34m.\u001b[0m\u001b[0mpage_index\u001b[0m \u001b[0;34m==\u001b[0m \u001b[0mlen\u001b[0m\u001b[0;34m(\u001b[0m\u001b[0mself\u001b[0m\u001b[0;34m.\u001b[0m\u001b[0mcurrent_page\u001b[0m\u001b[0;34m)\u001b[0m \u001b[0;34m-\u001b[0m \u001b[0;36m1\u001b[0m\u001b[0;34m:\u001b[0m\u001b[0;34m\u001b[0m\u001b[0;34m\u001b[0m\u001b[0m\n\u001b[1;32m    242\u001b[0m             \u001b[0;31m# Reached end of current page, get the next page...\u001b[0m\u001b[0;34m\u001b[0m\u001b[0;34m\u001b[0m\u001b[0;34m\u001b[0m\u001b[0m\n\u001b[0;32m--> 243\u001b[0;31m             \u001b[0mself\u001b[0m\u001b[0;34m.\u001b[0m\u001b[0mcurrent_page\u001b[0m \u001b[0;34m=\u001b[0m \u001b[0mself\u001b[0m\u001b[0;34m.\u001b[0m\u001b[0mpage_iterator\u001b[0m\u001b[0;34m.\u001b[0m\u001b[0mnext\u001b[0m\u001b[0;34m(\u001b[0m\u001b[0;34m)\u001b[0m\u001b[0;34m\u001b[0m\u001b[0;34m\u001b[0m\u001b[0m\n\u001b[0m\u001b[1;32m    244\u001b[0m             \u001b[0;32mwhile\u001b[0m \u001b[0mlen\u001b[0m\u001b[0;34m(\u001b[0m\u001b[0mself\u001b[0m\u001b[0;34m.\u001b[0m\u001b[0mcurrent_page\u001b[0m\u001b[0;34m)\u001b[0m \u001b[0;34m==\u001b[0m \u001b[0;36m0\u001b[0m\u001b[0;34m:\u001b[0m\u001b[0;34m\u001b[0m\u001b[0;34m\u001b[0m\u001b[0m\n\u001b[1;32m    245\u001b[0m                 \u001b[0mself\u001b[0m\u001b[0;34m.\u001b[0m\u001b[0mcurrent_page\u001b[0m \u001b[0;34m=\u001b[0m \u001b[0mself\u001b[0m\u001b[0;34m.\u001b[0m\u001b[0mpage_iterator\u001b[0m\u001b[0;34m.\u001b[0m\u001b[0mnext\u001b[0m\u001b[0;34m(\u001b[0m\u001b[0;34m)\u001b[0m\u001b[0;34m\u001b[0m\u001b[0;34m\u001b[0m\u001b[0m\n",
            "\u001b[0;32m/usr/local/lib/python3.7/dist-packages/tweepy/cursor.py\u001b[0m in \u001b[0;36mnext\u001b[0;34m(self)\u001b[0m\n\u001b[1;32m    130\u001b[0m \u001b[0;34m\u001b[0m\u001b[0m\n\u001b[1;32m    131\u001b[0m         \u001b[0;32mif\u001b[0m \u001b[0mself\u001b[0m\u001b[0;34m.\u001b[0m\u001b[0mindex\u001b[0m \u001b[0;34m>=\u001b[0m \u001b[0mlen\u001b[0m\u001b[0;34m(\u001b[0m\u001b[0mself\u001b[0m\u001b[0;34m.\u001b[0m\u001b[0mresults\u001b[0m\u001b[0;34m)\u001b[0m \u001b[0;34m-\u001b[0m \u001b[0;36m1\u001b[0m\u001b[0;34m:\u001b[0m\u001b[0;34m\u001b[0m\u001b[0;34m\u001b[0m\u001b[0m\n\u001b[0;32m--> 132\u001b[0;31m             \u001b[0mdata\u001b[0m \u001b[0;34m=\u001b[0m \u001b[0mself\u001b[0m\u001b[0;34m.\u001b[0m\u001b[0mmethod\u001b[0m\u001b[0;34m(\u001b[0m\u001b[0mmax_id\u001b[0m\u001b[0;34m=\u001b[0m\u001b[0mself\u001b[0m\u001b[0;34m.\u001b[0m\u001b[0mmax_id\u001b[0m\u001b[0;34m,\u001b[0m \u001b[0mparser\u001b[0m\u001b[0;34m=\u001b[0m\u001b[0mRawParser\u001b[0m\u001b[0;34m(\u001b[0m\u001b[0;34m)\u001b[0m\u001b[0;34m,\u001b[0m \u001b[0;34m*\u001b[0m\u001b[0mself\u001b[0m\u001b[0;34m.\u001b[0m\u001b[0margs\u001b[0m\u001b[0;34m,\u001b[0m \u001b[0;34m**\u001b[0m\u001b[0mself\u001b[0m\u001b[0;34m.\u001b[0m\u001b[0mkwargs\u001b[0m\u001b[0;34m)\u001b[0m\u001b[0;34m\u001b[0m\u001b[0;34m\u001b[0m\u001b[0m\n\u001b[0m\u001b[1;32m    133\u001b[0m \u001b[0;34m\u001b[0m\u001b[0m\n\u001b[1;32m    134\u001b[0m             \u001b[0;32mif\u001b[0m \u001b[0mhasattr\u001b[0m\u001b[0;34m(\u001b[0m\u001b[0mself\u001b[0m\u001b[0;34m.\u001b[0m\u001b[0mmethod\u001b[0m\u001b[0;34m,\u001b[0m \u001b[0;34m'__self__'\u001b[0m\u001b[0;34m)\u001b[0m\u001b[0;34m:\u001b[0m\u001b[0;34m\u001b[0m\u001b[0;34m\u001b[0m\u001b[0m\n",
            "\u001b[0;32m/usr/local/lib/python3.7/dist-packages/tweepy/binder.py\u001b[0m in \u001b[0;36m_call\u001b[0;34m(*args, **kwargs)\u001b[0m\n\u001b[1;32m    251\u001b[0m                 \u001b[0;32mreturn\u001b[0m \u001b[0mmethod\u001b[0m\u001b[0;34m\u001b[0m\u001b[0;34m\u001b[0m\u001b[0m\n\u001b[1;32m    252\u001b[0m             \u001b[0;32melse\u001b[0m\u001b[0;34m:\u001b[0m\u001b[0;34m\u001b[0m\u001b[0;34m\u001b[0m\u001b[0m\n\u001b[0;32m--> 253\u001b[0;31m                 \u001b[0;32mreturn\u001b[0m \u001b[0mmethod\u001b[0m\u001b[0;34m.\u001b[0m\u001b[0mexecute\u001b[0m\u001b[0;34m(\u001b[0m\u001b[0;34m)\u001b[0m\u001b[0;34m\u001b[0m\u001b[0;34m\u001b[0m\u001b[0m\n\u001b[0m\u001b[1;32m    254\u001b[0m         \u001b[0;32mfinally\u001b[0m\u001b[0;34m:\u001b[0m\u001b[0;34m\u001b[0m\u001b[0;34m\u001b[0m\u001b[0m\n\u001b[1;32m    255\u001b[0m             \u001b[0mmethod\u001b[0m\u001b[0;34m.\u001b[0m\u001b[0msession\u001b[0m\u001b[0;34m.\u001b[0m\u001b[0mclose\u001b[0m\u001b[0;34m(\u001b[0m\u001b[0;34m)\u001b[0m\u001b[0;34m\u001b[0m\u001b[0;34m\u001b[0m\u001b[0m\n",
            "\u001b[0;32m/usr/local/lib/python3.7/dist-packages/tweepy/binder.py\u001b[0m in \u001b[0;36mexecute\u001b[0;34m(self)\u001b[0m\n\u001b[1;32m    232\u001b[0m                     \u001b[0;32mraise\u001b[0m \u001b[0mRateLimitError\u001b[0m\u001b[0;34m(\u001b[0m\u001b[0merror_msg\u001b[0m\u001b[0;34m,\u001b[0m \u001b[0mresp\u001b[0m\u001b[0;34m)\u001b[0m\u001b[0;34m\u001b[0m\u001b[0;34m\u001b[0m\u001b[0m\n\u001b[1;32m    233\u001b[0m                 \u001b[0;32melse\u001b[0m\u001b[0;34m:\u001b[0m\u001b[0;34m\u001b[0m\u001b[0;34m\u001b[0m\u001b[0m\n\u001b[0;32m--> 234\u001b[0;31m                     \u001b[0;32mraise\u001b[0m \u001b[0mTweepError\u001b[0m\u001b[0;34m(\u001b[0m\u001b[0merror_msg\u001b[0m\u001b[0;34m,\u001b[0m \u001b[0mresp\u001b[0m\u001b[0;34m,\u001b[0m \u001b[0mapi_code\u001b[0m\u001b[0;34m=\u001b[0m\u001b[0mapi_error_code\u001b[0m\u001b[0;34m)\u001b[0m\u001b[0;34m\u001b[0m\u001b[0;34m\u001b[0m\u001b[0m\n\u001b[0m\u001b[1;32m    235\u001b[0m \u001b[0;34m\u001b[0m\u001b[0m\n\u001b[1;32m    236\u001b[0m             \u001b[0;31m# Parse the response payload\u001b[0m\u001b[0;34m\u001b[0m\u001b[0;34m\u001b[0m\u001b[0;34m\u001b[0m\u001b[0m\n",
            "\u001b[0;31mTweepError\u001b[0m: Twitter error response: status code = 400"
          ]
        }
      ]
    },
    {
      "cell_type": "code",
      "metadata": {
        "colab": {
          "base_uri": "https://localhost:8080/"
        },
        "id": "xOh0TLCNbHOK",
        "outputId": "5a1da814-21c3-438b-b435-1479574cd2a6"
      },
      "source": [
        "for i in lis:\n",
        "    print(lis[i].id)"
      ],
      "execution_count": null,
      "outputs": [
        {
          "output_type": "stream",
          "name": "stdout",
          "text": [
            "1440630109690482691\n",
            "1439950645063127043\n",
            "1439950518676193281\n",
            "1439950377500110853\n",
            "1439950027221131270\n",
            "1439948462477348874\n",
            "1369702903238324231\n",
            "1369702893423628293\n",
            "1369691543800582154\n"
          ]
        }
      ]
    },
    {
      "cell_type": "code",
      "metadata": {
        "colab": {
          "base_uri": "https://localhost:8080/"
        },
        "id": "kv0zKxubZKew",
        "outputId": "de3b25f9-d8f3-416b-d826-d67803aeea76"
      },
      "source": [
        "lisd = {}\n",
        "lisd['1']=1\n",
        "lisd"
      ],
      "execution_count": null,
      "outputs": [
        {
          "output_type": "execute_result",
          "data": {
            "text/plain": [
              "{'1': 1}"
            ]
          },
          "metadata": {},
          "execution_count": 20
        }
      ]
    },
    {
      "cell_type": "code",
      "metadata": {
        "id": "mob-0ClZ1BTg"
      },
      "source": [
        "words = [\"liverpool\",\"mancity\"]\n",
        "date_since = '2020-01-01'\n",
        "ti_date = '2020-01-02'"
      ],
      "execution_count": null,
      "outputs": []
    },
    {
      "cell_type": "code",
      "metadata": {
        "id": "9RN6kt6Lt7S8"
      },
      "source": [
        "timeline = t.Cursor(api.search, q=words ,lang=\"en\",since=date_since, , tweet_mode='extended').items(500)"
      ],
      "execution_count": null,
      "outputs": []
    },
    {
      "cell_type": "code",
      "metadata": {
        "id": "mldRgvJfyyQi"
      },
      "source": [
        "timelineList = [e for e in timeline]"
      ],
      "execution_count": null,
      "outputs": []
    },
    {
      "cell_type": "code",
      "metadata": {
        "id": "NfW9paBrJVOx",
        "colab": {
          "base_uri": "https://localhost:8080/"
        },
        "outputId": "3e183171-0324-42b8-9a04-b11f2f152a59"
      },
      "source": [
        "i=0\n",
        "for e in timelineList:\n",
        "    i+=1\n",
        "print(i)"
      ],
      "execution_count": null,
      "outputs": [
        {
          "output_type": "stream",
          "name": "stdout",
          "text": [
            "50\n"
          ]
        }
      ]
    },
    {
      "cell_type": "code",
      "metadata": {
        "id": "ru-EHwN04wo0",
        "colab": {
          "base_uri": "https://localhost:8080/"
        },
        "outputId": "97345241-a931-462d-be48-1f907f580f03"
      },
      "source": [
        "eIdi =[]\n",
        "id = []\n",
        "for e in timelineList:\n",
        "    if e.user.followers_count>100000 and e.user.id not in id:\n",
        "        eIdi.append([e.user.id,e.user.followers_count])\n",
        "        id.append(e.user.id)\n",
        "    # print(e.user.id)\n",
        "eIdi"
      ],
      "execution_count": null,
      "outputs": [
        {
          "output_type": "execute_result",
          "data": {
            "text/plain": [
              "[[872833914083188737, 212809],\n",
              " [333888813, 1843845],\n",
              " [768812094485565440, 107537],\n",
              " [3155098106, 144619],\n",
              " [1196377835746795520, 103851]]"
            ]
          },
          "metadata": {},
          "execution_count": 152
        }
      ]
    },
    {
      "cell_type": "code",
      "metadata": {
        "id": "P1zQLEkR18A2"
      },
      "source": [
        "eId =[]\n",
        "for e in timelineList:\n",
        "    if e.user.followers_count>100000 and e.user.id not in eId:\n",
        "        print()\n",
        "        eId.append(e.user.id)\n",
        "\n",
        "eId"
      ],
      "execution_count": null,
      "outputs": []
    },
    {
      "cell_type": "code",
      "metadata": {
        "id": "69adBFsz48hL"
      },
      "source": [
        ""
      ],
      "execution_count": null,
      "outputs": []
    },
    {
      "cell_type": "code",
      "metadata": {
        "id": "1gxRrnJX28fC",
        "colab": {
          "base_uri": "https://localhost:8080/"
        },
        "outputId": "078de8b8-5719-4662-bd11-56270a7c774b"
      },
      "source": [
        "\n",
        "eId"
      ],
      "execution_count": null,
      "outputs": [
        {
          "output_type": "execute_result",
          "data": {
            "text/plain": [
              "[872833914083188737,\n",
              " 333888813,\n",
              " 768812094485565440,\n",
              " 3155098106,\n",
              " 1196377835746795520]"
            ]
          },
          "metadata": {},
          "execution_count": 141
        }
      ]
    },
    {
      "cell_type": "code",
      "metadata": {
        "id": "6cmFDIgH0_Az"
      },
      "source": [
        "import json\n",
        "gg = {}\n",
        "gg['1'] = f1"
      ],
      "execution_count": 51,
      "outputs": []
    },
    {
      "cell_type": "code",
      "metadata": {
        "colab": {
          "base_uri": "https://localhost:8080/"
        },
        "id": "UuAIzoNj22J2",
        "outputId": "47957d6a-b158-496e-d4fa-b580228d32e4"
      },
      "source": [
        "len(gg['1'])"
      ],
      "execution_count": 57,
      "outputs": [
        {
          "output_type": "execute_result",
          "data": {
            "text/plain": [
              "48536"
            ]
          },
          "metadata": {},
          "execution_count": 57
        }
      ]
    },
    {
      "cell_type": "code",
      "metadata": {
        "id": "CQz5ersv1EB1"
      },
      "source": [
        "with open('data.json','w+') as data:\n",
        "    json.dump(gg,data)"
      ],
      "execution_count": 59,
      "outputs": []
    },
    {
      "cell_type": "code",
      "metadata": {
        "id": "RsKwMRLW3Zwt"
      },
      "source": [
        "kj = open('data.json')\n",
        "kk = json.load(kj)"
      ],
      "execution_count": 60,
      "outputs": []
    },
    {
      "cell_type": "code",
      "metadata": {
        "id": "1l481NMOB27G"
      },
      "source": [
        "for eI in eId:\n",
        "    user = api.get_user(eI)\n",
        "    print(user.id)"
      ],
      "execution_count": null,
      "outputs": []
    },
    {
      "cell_type": "code",
      "metadata": {
        "colab": {
          "base_uri": "https://localhost:8080/"
        },
        "id": "9RsM0a78NpsI",
        "outputId": "725491d5-f3d9-4de7-8137-906e64672088"
      },
      "source": [
        "eId[10:30]"
      ],
      "execution_count": null,
      "outputs": [
        {
          "output_type": "execute_result",
          "data": {
            "text/plain": [
              "20"
            ]
          },
          "metadata": {},
          "execution_count": 14
        }
      ]
    },
    {
      "cell_type": "markdown",
      "metadata": {
        "id": "QdB1ZmKi6VDu"
      },
      "source": [
        ""
      ]
    },
    {
      "cell_type": "markdown",
      "metadata": {
        "id": "77S2kfkE6U9z"
      },
      "source": [
        ""
      ]
    },
    {
      "cell_type": "code",
      "metadata": {
        "id": "GisZC9hJLzUQ",
        "colab": {
          "base_uri": "https://localhost:8080/"
        },
        "outputId": "feb14797-71b1-4cba-bed6-0a376b8a5cf4"
      },
      "source": [
        "import random\n",
        "int(random.random()*10)"
      ],
      "execution_count": null,
      "outputs": [
        {
          "output_type": "execute_result",
          "data": {
            "text/plain": [
              "6"
            ]
          },
          "metadata": {},
          "execution_count": 120
        }
      ]
    },
    {
      "cell_type": "code",
      "metadata": {
        "id": "PrqhPq5zI1cK",
        "colab": {
          "base_uri": "https://localhost:8080/"
        },
        "outputId": "77377548-0d70-421d-e47b-348b1146b81f"
      },
      "source": [
        "import time\n",
        "import random\n",
        "f1 = []\n",
        "f2 = []\n",
        "k = [333888813]\n",
        "for eI in fl:\n",
        "    idss = []\n",
        "    for page in t.Cursor(api.followers_ids, id=eI).pages(1):\n",
        "        idss.extend(page)\n",
        "        time.sleep(60)\n",
        "    for ids in idss:\n",
        "        # user = api.get_user(ids)\n",
        "        # if user.followers_count >1000:\n",
        "        f1.append([eI,ids])\n",
        "        f2.append(ids)\n",
        "    f2.append(eI)\n",
        "        # time.sleep(6)\n",
        "\n",
        "    # print(len(ids))\n",
        "    # len(idss)"
      ],
      "execution_count": null,
      "outputs": [
        {
          "output_type": "stream",
          "name": "stderr",
          "text": [
            "Rate limit reached. Sleeping for: 395\n"
          ]
        }
      ]
    },
    {
      "cell_type": "code",
      "metadata": {
        "id": "MrSD-3QufiOR"
      },
      "source": [
        "idss"
      ],
      "execution_count": null,
      "outputs": []
    },
    {
      "cell_type": "code",
      "metadata": {
        "id": "MgtLj0c38_Sj"
      },
      "source": [
        "fl = f2"
      ],
      "execution_count": null,
      "outputs": []
    },
    {
      "cell_type": "code",
      "metadata": {
        "id": "NPmOs9U991RM"
      },
      "source": [
        "class drow_graph:\n",
        "    def __init__(self, f1):\n",
        "        import matplotlib.pyplot as plt\n",
        "        import networkx as nx\n",
        "        self.f1 = f1\n",
        "        # self.f2 = f2\n",
        "        self.G = nx.Graph()\n",
        "        # self.G.add_nodes_from(self.f2)\n",
        "        # print(\"nodes get done\",self.G.number_of_nodes())\n",
        "        self.G.add_edges_from(self.f1)\n",
        "        print(\"edges get done\",self.G.number_of_edges())\n",
        "        # self.subax1 = plt.subplot(121)\n",
        "        # nx.draw(self.G,node_size=4,node_color=(1,0,0,0.1),edge_color=(0,0,1,0.1))\n",
        "        plt.figure(3,figsize=(12,12)) \n",
        "        nx.draw(self.G,node_size=4,node_color=(1,0,0,0.1),edge_color=(0,0,1,0.04))\n",
        "        plt.show()"
      ],
      "execution_count": 31,
      "outputs": []
    },
    {
      "cell_type": "code",
      "metadata": {
        "id": "qNnO8Vy0uAyH"
      },
      "source": [
        "import matplotlib.pyplot as plt\n",
        "import networkx as nx\n",
        "from fa2 import ForceAtlas2\n",
        "G = nx.Graph()\n",
        "# self.G.add_nodes_from(self.f2)\n",
        "# print(\"nodes get done\",self.G.number_of_nodes())\n",
        "G.add_edges_from(f1)"
      ],
      "execution_count": 36,
      "outputs": []
    },
    {
      "cell_type": "code",
      "metadata": {
        "id": "G8Fz8zWEy2MG"
      },
      "source": [
        "nx.draw(G,pos=None)"
      ],
      "execution_count": null,
      "outputs": []
    },
    {
      "cell_type": "code",
      "metadata": {
        "id": "00tqltgh9bUC"
      },
      "source": [
        "forceatlas2 = ForceAtlas2(\n",
        "                        # # Behavior alternatives\n",
        "                        # outboundAttractionDistribution=True,  # Dissuade hubs\n",
        "                        # linLogMode=False,  # NOT IMPLEMENTED\n",
        "                        # adjustSizes=False,  # Prevent overlap (NOT IMPLEMENTED)\n",
        "                        # edgeWeightInfluence=1.0,\n",
        "\n",
        "                        # # Performance\n",
        "                        # jitterTolerance=1.0,  # Tolerance\n",
        "                        # barnesHutOptimize=True,\n",
        "                        # barnesHutTheta=1.2,\n",
        "                        # multiThreaded=False,  # NOT IMPLEMENTED\n",
        "\n",
        "                        # # Tuning\n",
        "                        # scalingRatio=2.0,\n",
        "                        # strongGravityMode=False,\n",
        "                        # gravity=1.0,\n",
        "\n",
        "                        # Log\n",
        "                        verbose=True)\n",
        "plt.figure(3,figsize=(12,12))\n",
        "positions = forceatlas2.forceatlas2_networkx_layout(G, pos=None, iterations=100)\n",
        "# nx.draw_networkx_nodes(G, positions, node_size=12, node_color=\"blue\", alpha=0.02)\n",
        "nx.draw_networkx_edges(G, positions, edge_color=\"r\", alpha=0.05)\n",
        "plt.axis('off')\n",
        "plt.show()\n"
      ],
      "execution_count": null,
      "outputs": []
    },
    {
      "cell_type": "code",
      "metadata": {
        "id": "rdV0tZ4Gt2wC"
      },
      "source": [
        "pos = nx.spring_layout(G)"
      ],
      "execution_count": null,
      "outputs": []
    },
    {
      "cell_type": "code",
      "metadata": {
        "colab": {
          "base_uri": "https://localhost:8080/",
          "height": 248
        },
        "id": "WKfojYpCsnY0",
        "outputId": "c1d8d639-a1b7-4517-9ecc-8c3da7e8c29c"
      },
      "source": [
        "plt.figure(3,figsize=(12,12))\n",
        "\n",
        "nx.draw_networkx_nodes(G,pos= pos, node_color='b',node_size=10)\n",
        "nx.draw_networkx_edges(G,edge_color='r' ,alpha=0.1,pos=pos)\n",
        "plt.show()"
      ],
      "execution_count": 39,
      "outputs": [
        {
          "output_type": "error",
          "ename": "TypeError",
          "evalue": "ignored",
          "traceback": [
            "\u001b[0;31m---------------------------------------------------------------------------\u001b[0m",
            "\u001b[0;31mTypeError\u001b[0m                                 Traceback (most recent call last)",
            "\u001b[0;32m<ipython-input-39-0ab57080bc19>\u001b[0m in \u001b[0;36m<module>\u001b[0;34m()\u001b[0m\n\u001b[1;32m      1\u001b[0m \u001b[0mplt\u001b[0m\u001b[0;34m.\u001b[0m\u001b[0mfigure\u001b[0m\u001b[0;34m(\u001b[0m\u001b[0;36m3\u001b[0m\u001b[0;34m,\u001b[0m\u001b[0mfigsize\u001b[0m\u001b[0;34m=\u001b[0m\u001b[0;34m(\u001b[0m\u001b[0;36m12\u001b[0m\u001b[0;34m,\u001b[0m\u001b[0;36m12\u001b[0m\u001b[0;34m)\u001b[0m\u001b[0;34m)\u001b[0m\u001b[0;34m\u001b[0m\u001b[0;34m\u001b[0m\u001b[0m\n\u001b[1;32m      2\u001b[0m \u001b[0;34m\u001b[0m\u001b[0m\n\u001b[0;32m----> 3\u001b[0;31m \u001b[0mnx\u001b[0m\u001b[0;34m.\u001b[0m\u001b[0mdraw_networkx_nodes\u001b[0m\u001b[0;34m(\u001b[0m\u001b[0mG\u001b[0m\u001b[0;34m,\u001b[0m \u001b[0mnode_color\u001b[0m\u001b[0;34m=\u001b[0m\u001b[0;34m'b'\u001b[0m\u001b[0;34m,\u001b[0m\u001b[0mnode_size\u001b[0m\u001b[0;34m=\u001b[0m\u001b[0;36m10\u001b[0m\u001b[0;34m)\u001b[0m\u001b[0;34m\u001b[0m\u001b[0;34m\u001b[0m\u001b[0m\n\u001b[0m\u001b[1;32m      4\u001b[0m \u001b[0;31m# nx.draw_networkx_edges(G,edge_color='r' ,alpha=0.1,pos=pos)\u001b[0m\u001b[0;34m\u001b[0m\u001b[0;34m\u001b[0m\u001b[0;34m\u001b[0m\u001b[0m\n\u001b[1;32m      5\u001b[0m \u001b[0mplt\u001b[0m\u001b[0;34m.\u001b[0m\u001b[0mshow\u001b[0m\u001b[0;34m(\u001b[0m\u001b[0;34m)\u001b[0m\u001b[0;34m\u001b[0m\u001b[0;34m\u001b[0m\u001b[0m\n",
            "\u001b[0;31mTypeError\u001b[0m: draw_networkx_nodes() missing 1 required positional argument: 'pos'"
          ]
        },
        {
          "output_type": "display_data",
          "data": {
            "text/plain": [
              "<Figure size 864x864 with 0 Axes>"
            ]
          },
          "metadata": {}
        }
      ]
    },
    {
      "cell_type": "code",
      "metadata": {
        "id": "QDpNbfmJZwrb"
      },
      "source": [
        "import csv\n",
        "filename = \"d.csv\"\n",
        "with open(filename , 'w') as cs:\n",
        "    ddd = csv.writer(cs)"
      ],
      "execution_count": null,
      "outputs": []
    },
    {
      "cell_type": "code",
      "metadata": {
        "id": "pDFpI9F5cjN2"
      },
      "source": [
        "f1"
      ],
      "execution_count": null,
      "outputs": []
    },
    {
      "cell_type": "code",
      "metadata": {
        "id": "--tzOrGpcXbr"
      },
      "source": [
        "ddd.writerows(f1)"
      ],
      "execution_count": null,
      "outputs": []
    },
    {
      "cell_type": "code",
      "metadata": {
        "id": "Gp1RbsuNOCEq"
      },
      "source": [
        "\n",
        "file = open('datanode2_201.txt' , 'w+')\n",
        "file.writelines(\"% s\\n\" % data for data in f2)"
      ],
      "execution_count": null,
      "outputs": []
    },
    {
      "cell_type": "code",
      "metadata": {
        "id": "av636SyAZ5v6"
      },
      "source": [
        "jjj2 =  open('//content//drive//MyDrive//Colab Notebooks//datanode.txt' , 'r')\n",
        "d2 = jjj2.readlines()\n",
        "jjj =  open('//content//drive//MyDrive//Colab Notebooks//data.txt' , 'r')\n",
        "d = jjj.readlines()"
      ],
      "execution_count": null,
      "outputs": []
    },
    {
      "cell_type": "code",
      "metadata": {
        "id": "LhSWEdfcdC7T"
      },
      "source": [
        "dstring=[]\n",
        "for d2d in d2:\n",
        "    dstring.append(d2d.replace('\\n',''))"
      ],
      "execution_count": null,
      "outputs": []
    },
    {
      "cell_type": "code",
      "metadata": {
        "id": "JewsHGO-PqXr"
      },
      "source": [
        "fnodes = []\n",
        "for i in dstring:\n",
        "    fnodes.append(int(i))"
      ],
      "execution_count": null,
      "outputs": []
    },
    {
      "cell_type": "code",
      "metadata": {
        "id": "cKWpMh09TkkF"
      },
      "source": [
        "drow_graph(fedges,fnodes)"
      ],
      "execution_count": null,
      "outputs": []
    },
    {
      "cell_type": "code",
      "metadata": {
        "id": "xoEY2XytQnem"
      },
      "source": [
        "fnodes"
      ],
      "execution_count": null,
      "outputs": []
    },
    {
      "cell_type": "code",
      "metadata": {
        "id": "D01MFnAjQAij"
      },
      "source": [
        "dstring2 = []\n",
        "for dd in d:\n",
        "    dstring2.append(dd.replace('\\n','').replace('[','').replace(']',''))"
      ],
      "execution_count": null,
      "outputs": []
    },
    {
      "cell_type": "code",
      "metadata": {
        "colab": {
          "base_uri": "https://localhost:8080/",
          "height": 38
        },
        "id": "_jN3__nePY_u",
        "outputId": "15f9f264-a8ed-4017-9b38-921c7642b840"
      },
      "source": [
        "dstring2[2].split(\",\")[0]"
      ],
      "execution_count": null,
      "outputs": [
        {
          "output_type": "execute_result",
          "data": {
            "application/vnd.google.colaboratory.intrinsic+json": {
              "type": "string"
            },
            "text/plain": [
              "'1126194340714430465'"
            ]
          },
          "metadata": {},
          "execution_count": 71
        }
      ]
    },
    {
      "cell_type": "code",
      "metadata": {
        "id": "8DN8VdbeRtor"
      },
      "source": [
        "fedges = []\n",
        "for i in dstring2:\n",
        "    # print(i.split(','))\n",
        "    p = i.split(\",\")\n",
        "    fedges.append([int(p[0]),int(p[1])])\n",
        "fedges"
      ],
      "execution_count": null,
      "outputs": []
    },
    {
      "cell_type": "code",
      "metadata": {
        "id": "9td5UW_yZfn2"
      },
      "source": [
        "with open(\"read.txt\", 'w') as file:"
      ],
      "execution_count": null,
      "outputs": []
    },
    {
      "cell_type": "code",
      "metadata": {
        "colab": {
          "base_uri": "https://localhost:8080/"
        },
        "id": "Oi8obwmSIl5H",
        "outputId": "f52958c9-7c1f-49ed-d67d-42072d4c1dac"
      },
      "source": [
        "len(ids)"
      ],
      "execution_count": null,
      "outputs": [
        {
          "output_type": "execute_result",
          "data": {
            "text/plain": [
              "100000"
            ]
          },
          "metadata": {},
          "execution_count": 210
        }
      ]
    },
    {
      "cell_type": "code",
      "metadata": {
        "id": "1GTPFfaX9CPH"
      },
      "source": [
        "eeI = []\n",
        "for ee in eId:\n",
        "    if ee[1]>100:\n",
        "        eeI.append([ee[0],\"with\",ee[1]])"
      ],
      "execution_count": null,
      "outputs": []
    },
    {
      "cell_type": "code",
      "metadata": {
        "colab": {
          "base_uri": "https://localhost:8080/"
        },
        "id": "vHolMW-Q7Sws",
        "outputId": "71c805c7-de5f-4cf3-edc2-7d2fb93092e2"
      },
      "source": [
        "len(eeI)"
      ],
      "execution_count": null,
      "outputs": [
        {
          "output_type": "execute_result",
          "data": {
            "text/plain": [
              "217"
            ]
          },
          "metadata": {},
          "execution_count": 177
        }
      ]
    },
    {
      "cell_type": "code",
      "metadata": {
        "id": "_NK2HCcduNb7"
      },
      "source": [
        "f_num = []\n",
        "for e in timeline:\n",
        "    f_num.append(e.user.id)"
      ],
      "execution_count": null,
      "outputs": []
    },
    {
      "cell_type": "markdown",
      "metadata": {
        "id": "6P226gDzjDjc"
      },
      "source": [
        "\n",
        "\n",
        "```\n",
        "# This is formatted as code\n",
        "```\n",
        "\n",
        "# a bit learning on graph"
      ]
    },
    {
      "cell_type": "code",
      "metadata": {
        "id": "MXqoW5ryngZA"
      },
      "source": [
        "drow_graph(f1,f2)"
      ],
      "execution_count": null,
      "outputs": []
    },
    {
      "cell_type": "code",
      "metadata": {
        "id": "GR0Dy1QemZl8"
      },
      "source": [
        "class drow_graph:\n",
        "    def __init__(self, f1, f2):\n",
        "        import matplotlib.pyplot as plt\n",
        "        import networkx as nx\n",
        "        self.f1 = f1\n",
        "        self.f2 = f2\n",
        "        self.G = nx.Graph()\n",
        "        self.G.add_nodes_from(self.f2)\n",
        "        print(\"nodes get done\",self.G.number_of_nodes())\n",
        "        self.G.add_edges_from(self.f1)\n",
        "        print(\"edges get done\",self.G.number_of_edges())\n",
        "        self.subax1 = plt.subplot(121)\n",
        "        nx.draw(self.G,node_size=10,node_color='r',edge_color=(1,0,0,0.06))\n"
      ],
      "execution_count": null,
      "outputs": []
    },
    {
      "cell_type": "code",
      "metadata": {
        "id": "xlbwwYmtjKZS"
      },
      "source": [
        "import networkx as nx\n",
        "import random as r"
      ],
      "execution_count": null,
      "outputs": []
    },
    {
      "cell_type": "code",
      "metadata": {
        "id": "jL0S-56Vj3C0"
      },
      "source": [
        "import matplotlib.pyplot as plt"
      ],
      "execution_count": null,
      "outputs": []
    },
    {
      "cell_type": "code",
      "metadata": {
        "id": "Qtpqvjy4lDlr",
        "colab": {
          "base_uri": "https://localhost:8080/"
        },
        "outputId": "ce4ea4f3-14de-4169-dfc0-f4d51e2f8f48"
      },
      "source": [
        "fG = nx.Graph()\n",
        "# fG.add_nodes_from(f2)\n",
        "fG.number_of_edges()\n",
        "fG.number_of_nodes()"
      ],
      "execution_count": null,
      "outputs": [
        {
          "output_type": "execute_result",
          "data": {
            "text/plain": [
              "0"
            ]
          },
          "metadata": {},
          "execution_count": 96
        }
      ]
    },
    {
      "cell_type": "code",
      "metadata": {
        "id": "Ib3m0CRllqUh"
      },
      "source": [
        "for e in f1:\n",
        "    if e[1]!=e[0]:\n",
        "        fG.add_edge(*e)"
      ],
      "execution_count": null,
      "outputs": []
    },
    {
      "cell_type": "code",
      "metadata": {
        "colab": {
          "base_uri": "https://localhost:8080/",
          "height": 248
        },
        "id": "SfJ0xZAnl9kf",
        "outputId": "f4909df4-3af5-4385-b343-62c527cf3ec4"
      },
      "source": [
        "subax1 = plt.subplot(121)\n",
        "nx.draw(fG,node_size=10,node_color='r')"
      ],
      "execution_count": null,
      "outputs": [
        {
          "output_type": "display_data",
          "data": {
            "image/png": "[encoded data removed]",
            "text/plain": [
              "<Figure size 432x288 with 1 Axes>"
            ]
          },
          "metadata": {}
        }
      ]
    },
    {
      "cell_type": "code",
      "metadata": {
        "id": "Bo6NTszrl6zN"
      },
      "source": [
        "# PPPPPPPPPPPPPPPPPPPPPPPPPPPPPPPPPPPPPPPPPPPPP"
      ],
      "execution_count": null,
      "outputs": []
    },
    {
      "cell_type": "code",
      "metadata": {
        "id": "fOgblhPxplcL"
      },
      "source": [
        "gg = [int(r.random()*100) for _ in range(200)]\n",
        "gg.append(int(1))\n",
        "f1=[(int(r.random()*100),int(r.random()*100)) for _ in range(3000)]\n",
        "f3=[(int(1),int(r.random()*100)) for _ in range(6000)]\n",
        "f1 = f1+f3"
      ],
      "execution_count": null,
      "outputs": []
    },
    {
      "cell_type": "code",
      "metadata": {
        "colab": {
          "base_uri": "https://localhost:8080/",
          "height": 265
        },
        "id": "0LifGQS-pwGj",
        "outputId": "7f693034-dcb8-4667-8295-2bd9b9485dad"
      },
      "source": [
        "drow_graph(f3,gg)"
      ],
      "execution_count": null,
      "outputs": [
        {
          "output_type": "execute_result",
          "data": {
            "text/plain": [
              "<__main__.drow_graph at 0x7f7d4c0f8fd0>"
            ]
          },
          "metadata": {},
          "execution_count": 81
        },
        {
          "output_type": "display_data",
          "data": {
            "image/png": "[encoded data removed]",
            "text/plain": [
              "<Figure size 432x288 with 1 Axes>"
            ]
          },
          "metadata": {}
        }
      ]
    },
    {
      "cell_type": "code",
      "metadata": {
        "id": "i8eLJTHFmIFN"
      },
      "source": [
        "G  = nx.Graph()\n",
        "gg = [int(r.random()*100) for _ in range(200)]\n",
        "G.add_nodes_from(gg)"
      ],
      "execution_count": null,
      "outputs": []
    },
    {
      "cell_type": "code",
      "metadata": {
        "id": "EYBBA7MlmRrE"
      },
      "source": [
        "# G.add_edges_from([(f1)])"
      ],
      "execution_count": null,
      "outputs": []
    },
    {
      "cell_type": "code",
      "metadata": {
        "id": "bP3APgsU1cMy"
      },
      "source": [
        "gg"
      ],
      "execution_count": null,
      "outputs": []
    },
    {
      "cell_type": "code",
      "metadata": {
        "id": "PxmaPQ5as1UF"
      },
      "source": [
        "# f1 = [(1,2),(1,2),(1,2),(1,2),(3,2),(3,4),(4,5),(5,6),(6,7),(7,8),(8,9),(9,1)]"
      ],
      "execution_count": null,
      "outputs": []
    },
    {
      "cell_type": "code",
      "metadata": {
        "id": "_Y6JCkabBdFZ"
      },
      "source": [
        "f1=[(int(r.random()*100),int(r.random()*100)) for _ in range(7000)]\n",
        "# f2=[(int(r.random()*30),int(r.random()*30)) for _ in range(7000)]\n",
        "f3=[(int(1),int(r.random()*100)) for _ in range(6000)]\n",
        "# f4=[(int(r.random()*100),int(r.random()*100)) for _ in range(20000)]"
      ],
      "execution_count": null,
      "outputs": []
    },
    {
      "cell_type": "code",
      "metadata": {
        "colab": {
          "base_uri": "https://localhost:8080/"
        },
        "id": "Ezkl6ZwA2LsE",
        "outputId": "5c5ac67c-3848-4e90-bbf6-dd5c6de1bb90"
      },
      "source": [
        "# len(f1)"
      ],
      "execution_count": null,
      "outputs": [
        {
          "output_type": "execute_result",
          "data": {
            "text/plain": [
              "200"
            ]
          },
          "metadata": {},
          "execution_count": 231
        }
      ]
    },
    {
      "cell_type": "code",
      "metadata": {
        "id": "N5vyyLjy_SQq"
      },
      "source": [
        "j = [(1,100000)]\n",
        "f1 = f1+f3"
      ],
      "execution_count": null,
      "outputs": []
    },
    {
      "cell_type": "code",
      "metadata": {
        "colab": {
          "base_uri": "https://localhost:8080/"
        },
        "id": "WQVbhEn0_a3K",
        "outputId": "e240d8b0-2155-4483-89b4-08bb067bd39a"
      },
      "source": [
        "len(f1)"
      ],
      "execution_count": null,
      "outputs": [
        {
          "output_type": "execute_result",
          "data": {
            "text/plain": [
              "20"
            ]
          },
          "metadata": {},
          "execution_count": 71
        }
      ]
    },
    {
      "cell_type": "code",
      "metadata": {
        "id": "cOa5L1ckyBf9"
      },
      "source": [
        "ff = []\n",
        "fcolor = []"
      ],
      "execution_count": null,
      "outputs": []
    },
    {
      "cell_type": "code",
      "metadata": {
        "id": "EUEUwMKV1WOR"
      },
      "source": [
        "# for e in f1:\n",
        "#     if e not in ff and e[1]!=e[0]:\n",
        "#         ff.append(e)\n",
        "#         # G.add_edge(*e)\n",
        "#         # fcolor.append((0.1,0.1,0.1,f1.count(e)/len(f1)))\n",
        "#         # f1.remove(e)\n",
        "#         # print(e)"
      ],
      "execution_count": null,
      "outputs": []
    },
    {
      "cell_type": "code",
      "metadata": {
        "id": "dh8VM7UF49nF"
      },
      "source": [
        "# ff = []\n",
        "# fcolor = []\n",
        "f_count = 0\n",
        "for e in f1:\n",
        "    if f1.count(e)>f_count:\n",
        "        f_count = f1.count(e)\n",
        "    # f_count.append(f1.count(e))"
      ],
      "execution_count": null,
      "outputs": []
    },
    {
      "cell_type": "code",
      "metadata": {
        "colab": {
          "base_uri": "https://localhost:8080/"
        },
        "id": "ywAG5kyn5IYQ",
        "outputId": "a256ba08-0c03-4a05-ffa2-e6ec14926edc"
      },
      "source": [
        "print(f_count)\n",
        "# print(f_count)"
      ],
      "execution_count": null,
      "outputs": [
        {
          "output_type": "stream",
          "name": "stdout",
          "text": [
            "79\n"
          ]
        }
      ]
    },
    {
      "cell_type": "code",
      "metadata": {
        "id": "3EIwQGQs6e6W"
      },
      "source": [
        "# for e in f_count:\n"
      ],
      "execution_count": null,
      "outputs": []
    },
    {
      "cell_type": "code",
      "metadata": {
        "id": "M2BuLW-57b5z"
      },
      "source": [
        "# print(G.edges)\n",
        "# print(f1)\n",
        "# gl = G.edges\n",
        "# for e in f1:\n",
        "    # if e not in G.edges:\n",
        "    # print(e)"
      ],
      "execution_count": null,
      "outputs": []
    },
    {
      "cell_type": "code",
      "metadata": {
        "id": "yH83WuhDl02H"
      },
      "source": [
        "for e in f1:\n",
        "    if e[1]!=e[0]:\n",
        "    # ff.append(e)\n",
        "        G.add_edge(*e)\n",
        "    # fcolor.append((0.1,0.1,0.1,f1.count(e)/len(f1)))\n",
        "    # f1.remove(e)\n",
        "    # print(e)"
      ],
      "execution_count": null,
      "outputs": []
    },
    {
      "cell_type": "code",
      "metadata": {
        "colab": {
          "base_uri": "https://localhost:8080/"
        },
        "id": "R8tWus622bgH",
        "outputId": "a84fff51-d9bf-451d-8d76-32ad7302a51e"
      },
      "source": [
        "len(G.edges)"
      ],
      "execution_count": null,
      "outputs": [
        {
          "output_type": "execute_result",
          "data": {
            "text/plain": [
              "4950"
            ]
          },
          "metadata": {},
          "execution_count": 334
        }
      ]
    },
    {
      "cell_type": "code",
      "metadata": {
        "id": "aXMJZpUy20-2"
      },
      "source": [
        "for e in G.edges:\n",
        "    # if e not in ff and e[1]!=e[0]:\n",
        "    # ff.append(e)\n",
        "    # G.add_edge(*e)\n",
        "    fcolor.append((0.1,0.1,0.1,f1.count(e)/f_count))\n",
        "    # f1.remove(e)\n",
        "    # print(e,\"   \",f1.count(e))\n",
        "    # print(f1.count(e)/max(f_count))"
      ],
      "execution_count": null,
      "outputs": []
    },
    {
      "cell_type": "code",
      "metadata": {
        "colab": {
          "base_uri": "https://localhost:8080/",
          "height": 248
        },
        "id": "VXh2ygf44MsA",
        "outputId": "e0605bf2-38a5-4014-962b-5851192bb79c"
      },
      "source": [
        "# G = nx.petersen_graph()\n",
        "subax1 = plt.subplot(121)\n",
        "# plt.show()\n",
        "nx.draw(G,node_size=10,node_color='r')\n",
        "# plt.show()"
      ],
      "execution_count": null,
      "outputs": [
        {
          "output_type": "display_data",
          "data": {
            "image/png": "[encoded data removed]",
            "text/plain": [
              "<Figure size 432x288 with 1 Axes>"
            ]
          },
          "metadata": {}
        }
      ]
    },
    {
      "cell_type": "code",
      "metadata": {
        "id": "wZGXQYbE0mTE"
      },
      "source": [
        "fcolor\n",
        "# len(fcolor)\n",
        "# len(ff)"
      ],
      "execution_count": null,
      "outputs": []
    },
    {
      "cell_type": "code",
      "metadata": {
        "id": "afu6Ep80u-0a"
      },
      "source": [
        "# G.add_edges_from\n",
        "# pos=nx.spring_layout(G)"
      ],
      "execution_count": null,
      "outputs": []
    },
    {
      "cell_type": "code",
      "metadata": {
        "colab": {
          "base_uri": "https://localhost:8080/",
          "height": 248
        },
        "id": "Q1D0rfnQjkzs",
        "outputId": "4773b68e-7d25-4bd8-8f8f-0d8666c03caa"
      },
      "source": [
        "# G = nx.petersen_graph()\n",
        "subax1 = plt.subplot(121)\n",
        "# plt.show()\n",
        "nx.draw(G,node_size=10,node_color='r',edge_color=fcolor)\n",
        "# plt.show()"
      ],
      "execution_count": null,
      "outputs": [
        {
          "output_type": "display_data",
          "data": {
            "image/png": "[encoded data removed]",
            "text/plain": [
              "<Figure size 432x288 with 1 Axes>"
            ]
          },
          "metadata": {}
        }
      ]
    },
    {
      "cell_type": "code",
      "metadata": {
        "id": "0-6AlNmG2xYU"
      },
      "source": [
        "pos=nx.get_node_attributes(fG,'pos')"
      ],
      "execution_count": null,
      "outputs": []
    },
    {
      "cell_type": "code",
      "metadata": {
        "id": "_qTqMwjfwK1n"
      },
      "source": [
        "# pos[e]"
      ],
      "execution_count": null,
      "outputs": []
    },
    {
      "cell_type": "code",
      "metadata": {
        "id": "NKpJ2MHh3JNw"
      },
      "source": [
        "import numpy as np\n",
        "edge_pos = np.asarray([e for e in f1])"
      ],
      "execution_count": null,
      "outputs": []
    },
    {
      "cell_type": "code",
      "metadata": {
        "id": "GUZRu53N4RTo"
      },
      "source": [
        "f1"
      ],
      "execution_count": null,
      "outputs": []
    },
    {
      "cell_type": "code",
      "metadata": {
        "id": "jKFGc92awb1i"
      },
      "source": [
        "nx.draw_networkx_edges(fG, pos, edgelist=f1, width=6, alpha=0.5, style=\"dashed\")"
      ],
      "execution_count": null,
      "outputs": []
    }
  ]
}